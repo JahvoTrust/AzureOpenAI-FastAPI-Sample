{
 "cells": [
  {
   "cell_type": "code",
   "execution_count": 30,
   "metadata": {},
   "outputs": [],
   "source": [
    "from transformers import MarianTokenizer, MarianMTModel\n",
    "\n",
    "tokenizer = MarianTokenizer.from_pretrained(\"Helsinki-NLP/opus-mt-ko-en\")\n",
    "model = MarianMTModel.from_pretrained(\"Helsinki-NLP/opus-mt-ko-en\")\n"
   ]
  },
  {
   "cell_type": "code",
   "execution_count": 39,
   "metadata": {},
   "outputs": [],
   "source": [
    "sen_list = ['저는 귀하의 장치의 운영 체제를 해킹한 전문 프로그래머입니다 .','인터넷에 공개된 자료로 학습하기 때문에 지적 재산 및 개인정보보호에 대한 문제']"
   ]
  },
  {
   "cell_type": "code",
   "execution_count": 40,
   "metadata": {},
   "outputs": [
    {
     "data": {
      "text/plain": [
       "[\"I'm a professional programmer who hacked your device's operating system.\",\n",
       " \"Because we're learning from public data on the Internet, the problem of intellectual property and privacy is the problem.\"]"
      ]
     },
     "execution_count": 40,
     "metadata": {},
     "output_type": "execute_result"
    }
   ],
   "source": [
    "translate_input = tokenizer.prepare_seq2seq_batch(sen_list, return_tensors=\"pt\")\n",
    "translated = model.generate(**translate_input)\n",
    "trg_text = [tokenizer.decode(t, skip_special_tokens=True) for t in translated]\n",
    "trg_text"
   ]
  }
 ],
 "metadata": {
  "kernelspec": {
   "display_name": ".venv",
   "language": "python",
   "name": "python3"
  },
  "language_info": {
   "codemirror_mode": {
    "name": "ipython",
    "version": 3
   },
   "file_extension": ".py",
   "mimetype": "text/x-python",
   "name": "python",
   "nbconvert_exporter": "python",
   "pygments_lexer": "ipython3",
   "version": "3.10.4"
  },
  "orig_nbformat": 4
 },
 "nbformat": 4,
 "nbformat_minor": 2
}
