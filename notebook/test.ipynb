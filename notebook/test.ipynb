{
 "cells": [
  {
   "cell_type": "code",
   "execution_count": 1,
   "metadata": {},
   "outputs": [
    {
     "name": "stderr",
     "output_type": "stream",
     "text": [
      "c:\\src\\FastAPI\\AzureOpenAI-FastAPI-Sample\\.venv\\lib\\site-packages\\tqdm\\auto.py:21: TqdmWarning: IProgress not found. Please update jupyter and ipywidgets. See https://ipywidgets.readthedocs.io/en/stable/user_install.html\n",
      "  from .autonotebook import tqdm as notebook_tqdm\n"
     ]
    }
   ],
   "source": [
    "from transformers import MarianTokenizer, MarianMTModel\n",
    "\n",
    "tokenizer = MarianTokenizer.from_pretrained(\"Helsinki-NLP/opus-mt-ko-en\")\n",
    "model = MarianMTModel.from_pretrained(\"Helsinki-NLP/opus-mt-ko-en\")\n"
   ]
  },
  {
   "cell_type": "code",
   "execution_count": 4,
   "metadata": {},
   "outputs": [],
   "source": [
    "sen_list = ['반지름이 7.81cm 인 원의 둘레는 얼마인가?','이 보험음 상해의 경우만 보장합니다']"
   ]
  },
  {
   "cell_type": "code",
   "execution_count": 5,
   "metadata": {},
   "outputs": [
    {
     "name": "stderr",
     "output_type": "stream",
     "text": [
      "c:\\src\\FastAPI\\AzureOpenAI-FastAPI-Sample\\.venv\\lib\\site-packages\\transformers\\tokenization_utils_base.py:3722: FutureWarning: \n",
      "`prepare_seq2seq_batch` is deprecated and will be removed in version 5 of HuggingFace Transformers. Use the regular\n",
      "`__call__` method to prepare your inputs and targets.\n",
      "\n",
      "Here is a short example:\n",
      "\n",
      "model_inputs = tokenizer(src_texts, text_target=tgt_texts, ...)\n",
      "\n",
      "If you either need to use different keyword arguments for the source and target texts, you should do two calls like\n",
      "this:\n",
      "\n",
      "model_inputs = tokenizer(src_texts, ...)\n",
      "labels = tokenizer(text_target=tgt_texts, ...)\n",
      "model_inputs[\"labels\"] = labels[\"input_ids\"]\n",
      "\n",
      "See the documentation of your specific tokenizer for more details on the specific arguments to the tokenizer of choice.\n",
      "For a more complete example, see the implementation of `prepare_seq2seq_batch`.\n",
      "\n",
      "  warnings.warn(formatted_warning, FutureWarning)\n",
      "c:\\src\\FastAPI\\AzureOpenAI-FastAPI-Sample\\.venv\\lib\\site-packages\\transformers\\generation\\utils.py:1313: UserWarning: Using `max_length`'s default (512) to control the generation length. This behaviour is deprecated and will be removed from the config in v5 of Transformers -- we recommend using `max_new_tokens` to control the maximum length of the generation.\n",
      "  warnings.warn(\n"
     ]
    },
    {
     "data": {
      "text/plain": [
       "[\"What's the perimeter of a circle that has a radius of 7.81 centimeters?\",\n",
       " 'This insurance note is guaranteed only in the case of injuries.']"
      ]
     },
     "execution_count": 5,
     "metadata": {},
     "output_type": "execute_result"
    }
   ],
   "source": [
    "translate_input = tokenizer.prepare_seq2seq_batch(sen_list, return_tensors=\"pt\")\n",
    "translated = model.generate(**translate_input)\n",
    "trg_text = [tokenizer.decode(t, skip_special_tokens=True) for t in translated]\n",
    "trg_text"
   ]
  },
  {
   "cell_type": "code",
   "execution_count": 27,
   "metadata": {},
   "outputs": [
    {
     "name": "stdout",
     "output_type": "stream",
     "text": [
      "[31495, 230, 75265, 243, 92245, 13, 74618, 16969, 47932, 235, 18202, 116, 58189, 80052, 13]\n",
      "['�', '�', '�', '�', '하세요', '.', ' 나', '는', ' �', '�', '�', '�', '동', '입니다', '.']\n",
      "\n",
      "count:15\n"
     ]
    }
   ],
   "source": [
    "# Import the Tiktok tokenizer library.\n",
    "import tiktoken\n",
    "\n",
    "# Get the encoding for the cl100k_base model.\n",
    "tokenizer = tiktoken.get_encoding(\"cl100k_base\")\n",
    "\n",
    "# Alternatively, you can get the encoding for the gpt-3.5-turbo model.\n",
    "# tokenizer = tiktoken.encoding_for_model(\"gpt-3.5-turbo\")\n",
    "\n",
    "# Create a text string.\n",
    "text = \"안녕하세요. 나는 홍길동입니다.\"\n",
    "\n",
    "# Encode the text string using the tokenizer.\n",
    "token = tokenizer.encode(text)\n",
    "\n",
    "# Print the encoded tokens.\n",
    "print(token)\n",
    "\n",
    "# 토큰 목록을 목록으로 변환합니다.\n",
    "list_of_tokens = [tokenizer.decode([token]) for i, token in enumerate(token)]\n",
    "\n",
    "print(list_of_tokens)\n",
    "\n",
    "\n",
    "# Print the number of tokens.\n",
    "print('\\ncount:'+str(len(token)))"
   ]
  },
  {
   "cell_type": "code",
   "execution_count": 26,
   "metadata": {},
   "outputs": [
    {
     "name": "stdout",
     "output_type": "stream",
     "text": [
      "[9906, 11, 358, 1097, 19730, 342, 484, 53483, 13]\n",
      "['Hello', ',', ' I', ' am', ' Hong', ' g', 'ill', ' Dong', '.']\n",
      "\n",
      "count:9\n"
     ]
    }
   ],
   "source": [
    "# Import the Tiktok tokenizer library.\n",
    "import tiktoken\n",
    "\n",
    "# Get the encoding for the cl100k_base model.\n",
    "tokenizer = tiktoken.get_encoding(\"cl100k_base\")\n",
    "\n",
    "# Alternatively, you can get the encoding for the gpt-3.5-turbo model.\n",
    "# tokenizer = tiktoken.encoding_for_model(\"gpt-3.5-turbo\")\n",
    "\n",
    "# Create a text string.\n",
    "text = \"Hello, I am Hong gill Dong.\"\n",
    "\n",
    "# Encode the text string using the tokenizer.\n",
    "token = tokenizer.encode(text)\n",
    "\n",
    "# Print the encoded tokens.\n",
    "print(token)\n",
    "\n",
    "# 토큰 목록을 목록으로 변환합니다.\n",
    "list_of_tokens = [tokenizer.decode([token]) for i, token in enumerate(token)]\n",
    "\n",
    "print(list_of_tokens)\n",
    "\n",
    "\n",
    "# Print the number of tokens.\n",
    "print('\\ncount:'+str(len(token)))"
   ]
  }
 ],
 "metadata": {
  "kernelspec": {
   "display_name": ".venv",
   "language": "python",
   "name": "python3"
  },
  "language_info": {
   "codemirror_mode": {
    "name": "ipython",
    "version": 3
   },
   "file_extension": ".py",
   "mimetype": "text/x-python",
   "name": "python",
   "nbconvert_exporter": "python",
   "pygments_lexer": "ipython3",
   "version": "3.10.4"
  },
  "orig_nbformat": 4
 },
 "nbformat": 4,
 "nbformat_minor": 2
}
